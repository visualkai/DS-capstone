{
    "nbformat_minor": 1, 
    "cells": [
        {
            "source": "## This Notebook is for a Capstone\n\nThis will be the primary use of said notebook. Please be aware", 
            "cell_type": "markdown", 
            "metadata": {
                "collapsed": true
            }
        }, 
        {
            "execution_count": 51, 
            "cell_type": "code", 
            "metadata": {}, 
            "outputs": [], 
            "source": "import pandas as pd\nimport numpy as np\nimport bs4\nfrom bs4 import BeautifulSoup\nimport requests"
        }, 
        {
            "execution_count": 52, 
            "cell_type": "code", 
            "metadata": {}, 
            "outputs": [
                {
                    "output_type": "stream", 
                    "name": "stdout", 
                    "text": "Hello Capstone Project Course!\n"
                }
            ], 
            "source": "print('Hello Capstone Project Course!')"
        }, 
        {
            "source": "# Time to Segment and Classify Toranto", 
            "cell_type": "markdown", 
            "metadata": {}
        }, 
        {
            "source": "### First\nScrape the Postal Code Data from the Wiki    \nAnd throw it into a dataframe", 
            "cell_type": "markdown", 
            "metadata": {}
        }, 
        {
            "execution_count": 53, 
            "cell_type": "code", 
            "metadata": {}, 
            "outputs": [], 
            "source": "#Puts Wikiscrape into DF\npc_tor = requests.get(\"https://en.wikipedia.org/wiki/List_of_postal_codes_of_Canada:_M\")\nsoup = BeautifulSoup(pc_tor.content,'lxml')\ncodes = soup.find_all('table')[0]\nzips_df = pd.read_html(str(codes), header = 0)\nzips_df= zips_df[0]"
        }, 
        {
            "source": "### Second\nRemove not assigned Boroughs", 
            "cell_type": "markdown", 
            "metadata": {}
        }, 
        {
            "execution_count": 54, 
            "cell_type": "code", 
            "metadata": {}, 
            "outputs": [], 
            "source": "zips_df= zips_df.where(zips_df['Borough']!= 'Not assigned').dropna()"
        }, 
        {
            "source": "### Third\nGroup by Postal Code and make the data neat", 
            "cell_type": "markdown", 
            "metadata": {}
        }, 
        {
            "execution_count": 55, 
            "cell_type": "code", 
            "metadata": {}, 
            "outputs": [
                {
                    "output_type": "stream", 
                    "name": "stdout", 
                    "text": "1, 2, 3\n"
                }
            ], 
            "source": "def bump_set_spike(ball):\n    ball = set(ball)\n    point = ''\n    for play in range(len(ball)):\n        if play != 0: point += ', '\n        point += ball.pop()\n    return point\nprint(bump_set_spike(['1','2','3']))"
        }, 
        {
            "execution_count": 56, 
            "cell_type": "code", 
            "metadata": {}, 
            "outputs": [], 
            "source": "Gzips = zips_df.groupby(zips_df['Postcode'], as_index=True)"
        }, 
        {
            "execution_count": 57, 
            "cell_type": "code", 
            "metadata": {}, 
            "outputs": [], 
            "source": "b_zips = Gzips['Borough'].apply(lambda x:bump_set_spike(x)).to_frame()\nn_zips = Gzips['Neighbourhood'].apply(lambda x:bump_set_spike(x)).to_frame()\nj_zips = b_zips.join(n_zips)"
        }, 
        {
            "source": "### Finally\nTake care  of Not assigned Neighbourhood(s)", 
            "cell_type": "markdown", 
            "metadata": {}
        }, 
        {
            "execution_count": 58, 
            "cell_type": "code", 
            "metadata": {}, 
            "outputs": [
                {
                    "execution_count": 58, 
                    "metadata": {}, 
                    "data": {
                        "text/html": "<div>\n<style scoped>\n    .dataframe tbody tr th:only-of-type {\n        vertical-align: middle;\n    }\n\n    .dataframe tbody tr th {\n        vertical-align: top;\n    }\n\n    .dataframe thead th {\n        text-align: right;\n    }\n</style>\n<table border=\"1\" class=\"dataframe\">\n  <thead>\n    <tr style=\"text-align: right;\">\n      <th></th>\n      <th>Borough</th>\n      <th>Neighbourhood</th>\n    </tr>\n    <tr>\n      <th>Postcode</th>\n      <th></th>\n      <th></th>\n    </tr>\n  </thead>\n  <tbody>\n    <tr>\n      <th>M7A</th>\n      <td>Queen's Park</td>\n      <td>Not assigned</td>\n    </tr>\n  </tbody>\n</table>\n</div>", 
                        "text/plain": "               Borough Neighbourhood\nPostcode                            \nM7A       Queen's Park  Not assigned"
                    }, 
                    "output_type": "execute_result"
                }
            ], 
            "source": "aHold = j_zips[j_zips.Neighbourhood.str.contains('Not assigned')]\naHold"
        }, 
        {
            "execution_count": 59, 
            "cell_type": "code", 
            "metadata": {}, 
            "outputs": [], 
            "source": "j_zips.loc[aHold.index[0],'Neighbourhood'] = aHold.Borough[0]"
        }, 
        {
            "execution_count": 60, 
            "cell_type": "code", 
            "metadata": {}, 
            "outputs": [
                {
                    "execution_count": 60, 
                    "metadata": {}, 
                    "data": {
                        "text/plain": "(103, 2)"
                    }, 
                    "output_type": "execute_result"
                }
            ], 
            "source": "j_zips.shape"
        }, 
        {
            "execution_count": null, 
            "cell_type": "code", 
            "metadata": {}, 
            "outputs": [], 
            "source": ""
        }
    ], 
    "metadata": {
        "kernelspec": {
            "display_name": "Python 3.5", 
            "name": "python3", 
            "language": "python"
        }, 
        "language_info": {
            "mimetype": "text/x-python", 
            "nbconvert_exporter": "python", 
            "version": "3.5.5", 
            "name": "python", 
            "file_extension": ".py", 
            "pygments_lexer": "ipython3", 
            "codemirror_mode": {
                "version": 3, 
                "name": "ipython"
            }
        }
    }, 
    "nbformat": 4
}