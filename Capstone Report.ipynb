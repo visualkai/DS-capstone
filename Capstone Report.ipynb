{
    "nbformat_minor": 1, 
    "cells": [
        {
            "source": "# Capstone Project Main\n\n\n# Introduction\n\n### Background\nAmazon has recently brought to light the influence a company can bring to a location. This made national news and maintained itself in the news for an extended period of time. Amazon themselve had to look into each city and the advantages they bring. While supplying the needs of the company will be of the utmost importance, workplace satisfaction would also be a beneficial metric to look into. Higher workplace satisfaction may be assotiated with lower turnover rate and higher employee productivity. \n\n### Problem\nChoosing a location may be have the benefit of looking at venue density in order to increase workplace satisfaction, as well as the information provided on websites like GlassDoor. Looking at venue density in a series of radii to guage whether or not it affects workplace opinion on a variety of company review sites is the goal of this project. The scope of the radius is relatively small, at most a roughly 6 mile circle. So it does not include popular locations even roughly 30 minutes away.  \n\n### Interest\nPicking an office location has many pieces involved with it. Looking into the local economy and being able guage an increase in workplace satisfaction from that is important. It may make choosing a location to start at easier from not only an analytic view, but a personable view. Two locations may be similar, but an extra coffee shop or park may be just the thing the make one be the better choice. On the inverse, if having venues nearby\n\nThe following is intended to be a scrape and analysis of employee satisfaction and venue analysis. This may be important knowledge to have if branching into new locations from a point or starting a new business and optimize location. This is not intended to be the sole resource on workplace locations if there is a significant difference. Instead it should be used to influence workplace satisfaction. \n\nThis insight will take place focusing on tech companies. Locations for offices were selected to have same general area where possible.", 
            "cell_type": "markdown", 
            "metadata": {}
        }, 
        {
            "source": "# Data\n### Sources\nThere are 2 categories of sources. The first of which is business reviews on the following websites. Kanunu, GlassDoor, Fairy God Mother, and Indeed. The data being sought is the ratings of the company across all websites and all locations, and the related to the locations picked. Current expectations are using 4 companies with a max of 4 locations limited to the US. This is currently a preliminary amount that will be adjusted during the process.\n\nThe second category is data from foursquare. The information to be taken is simply the count of venues based on the category specific call. There are 4 radii to used. \nData from foursquare will include venue data in the following radii:\n    100000 Meters\n    10000  Meters\n    1000   Meters\n    250    Meters\n\nThis is to judge venue density. Foursquare API does not provide venue data beyond 100 Venues per call. The intent is to guage venue density in the near area of the office space. To ensure that each radius is not limited by this, if venues return at the maximum it will be assumed that the venue density is consistent with the next highest radius. New York City is most likely to have issues in this area due to it's density. \n\n### Data Cleaning\nData from the review sites will be normalized and have a related overall score. There will be two sets of review data. One is Location Specific and the other Location Non-Specific.\n\nData from foursquare will be translated into venue per Kilometer. If the largest radius hits the API call max of 100, then the next largest that does not hit this maximum. This is to ensure that information is not hitting an undue ceiling. Also, the call will need to be reduced to a count and placed in a table along with the company reviews and business locations. This is to be used for each specific category. Although if the largest radius does not garner 100 venues or more, that is the radius to be used for venue density. \n\n### Feature Selection\nThe current expected features to use are Venue Density by Category, Average Company Rating, Location Based Average Rating, the Category Venue Density, General Venue Density, Company, Office Location and the individual review data. Location data will be by City Name, not Longitude and Latitude. If a venue category is present in less than 4 locations, then 2 models will created and tested.  ", 
            "cell_type": "markdown", 
            "metadata": {
                "collapsed": true
            }
        }, 
        {
            "execution_count": null, 
            "cell_type": "code", 
            "metadata": {}, 
            "outputs": [], 
            "source": ""
        }
    ], 
    "metadata": {
        "kernelspec": {
            "display_name": "Python 3.5", 
            "name": "python3", 
            "language": "python"
        }, 
        "language_info": {
            "mimetype": "text/x-python", 
            "nbconvert_exporter": "python", 
            "version": "3.5.5", 
            "name": "python", 
            "file_extension": ".py", 
            "pygments_lexer": "ipython3", 
            "codemirror_mode": {
                "version": 3, 
                "name": "ipython"
            }
        }
    }, 
    "nbformat": 4
}